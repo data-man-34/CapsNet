{
 "cells": [
  {
   "cell_type": "code",
   "execution_count": 14,
   "metadata": {},
   "outputs": [],
   "source": [
    "from cifar10 import *\n",
    "import matplotlib.pyplot as plt\n",
    "import numpy as np\n",
    "import timeit\n",
    "import datetime\n",
    "import sys\n",
    "\n",
    "#!pip install scikit-image\n",
    "from skimage import transform\n",
    "import skimage\n",
    "\n",
    "import tensorflow as tf"
   ]
  },
  {
   "cell_type": "code",
   "execution_count": 2,
   "metadata": {},
   "outputs": [
    {
     "name": "stdout",
     "output_type": "stream",
     "text": [
      "Data has apparently already been downloaded and unpacked.\n",
      "Loading data: data/cifar-10-batches-py/batches.meta\n",
      "Loading data: data/cifar-10-batches-py/data_batch_1\n",
      "Loading data: data/cifar-10-batches-py/data_batch_2\n",
      "Loading data: data/cifar-10-batches-py/data_batch_3\n",
      "Loading data: data/cifar-10-batches-py/data_batch_4\n",
      "Loading data: data/cifar-10-batches-py/data_batch_5\n"
     ]
    }
   ],
   "source": [
    "maybe_download_and_extract()\n",
    "class_names = load_class_names()\n",
    "\n",
    "train_data = load_training_data()\n",
    "train_images_original = train_data[0]\n",
    "train_labels_original = train_data[1]"
   ]
  },
  {
   "cell_type": "code",
   "execution_count": 3,
   "metadata": {},
   "outputs": [
    {
     "name": "stdout",
     "output_type": "stream",
     "text": [
      "Loading data: data/cifar-10-batches-py/test_batch\n"
     ]
    }
   ],
   "source": [
    "test_data = load_test_data()\n",
    "test_images = test_data[0]\n",
    "test_labels = test_data[1]"
   ]
  },
  {
   "cell_type": "code",
   "execution_count": 4,
   "metadata": {},
   "outputs": [],
   "source": [
    "# Data centering and data normalization.\n",
    "train_images_original = train_images_original.astype('float32')\n",
    "mean = np.mean(train_images_original)  # mean for data centering\n",
    "std = np.std(train_images_original)  # std for data normalization\n",
    "\n",
    "train_images_original -= mean\n",
    "train_images_original /= std\n",
    "\n",
    "# Transform to range 0, 1\n",
    "def scale_range (input, min, max):\n",
    "    input += -(np.min(input))\n",
    "    input /= np.max(input) / (max - min)\n",
    "    input += min\n",
    "    return input\n",
    "\n",
    "train_images_original = scale_range(train_images_original, 0, 1)"
   ]
  },
  {
   "cell_type": "code",
   "execution_count": 5,
   "metadata": {},
   "outputs": [],
   "source": [
    "# Split to train and validation data\n",
    "split = 0.9\n",
    "split_loc = int(split * len(train_images_original))\n",
    "              \n",
    "validation_images = train_images_original[split_loc:]\n",
    "validation_labels = train_labels_original[split_loc:]\n",
    "\n",
    "train_images_split = train_images_original[:split_loc]\n",
    "train_labels_split = train_labels_original[:split_loc]"
   ]
  },
  {
   "cell_type": "code",
   "execution_count": 9,
   "metadata": {},
   "outputs": [],
   "source": [
    "# Horizontal flip to all training data\n",
    "train_images_flip = np.flip(train_images_split, axis=2)\n",
    "train_images_concat = np.concatenate((train_images_split, train_images_flip), axis=0)\n",
    "train_labels_concat = np.concatenate((train_labels_split, train_labels_split), axis=0)\n"
   ]
  },
  {
   "cell_type": "code",
   "execution_count": 10,
   "metadata": {},
   "outputs": [],
   "source": [
    "# Augment training data\n",
    "def augment(image):\n",
    "    size_x = image.shape[0]\n",
    "    size_y = image.shape[1]\n",
    "    # Rotation angle between -pi / 2, pi / 2 radians\n",
    "    angle = np.random.random_sample() * 0.5*np.pi - 0.25*np.pi\n",
    "    \n",
    "    # Shear angle -0.25, 0.25 radians\n",
    "    shear = np.random.random_sample() / 4 - 0.125\n",
    "    \n",
    "    # Translation -5 to 5 pixels in both directions\n",
    "    translation_x = np.random.random_sample() * 10 - 5\n",
    "    translation_y = np.random.random_sample() * 10 - 5\n",
    "    translation = (0, 0)\n",
    "    \n",
    "    # Scale 1.0-1.5\n",
    "    scale_x = np.random.random_sample() * 0.5 + 1\n",
    "    scale_y = np.random.random_sample() * 0.5 + 1\n",
    "    scale = (scale_x, scale_y)\n",
    "\n",
    "    \n",
    "    transform = skimage.transform.AffineTransform(rotation=angle,\n",
    "                                                  shear=shear,\n",
    "                                                  translation=translation, \n",
    "                                                  scale=scale)\n",
    "    transformed_image = skimage.transform.warp(image, inverse_map=transform, mode='edge')\n",
    "    \n",
    "    # Randomly crop the image\n",
    "    #rsize_x = np.random.randint(np.floor(0.9*size_x),size_x)\n",
    "    #rsize_y = np.random.randint(np.floor(0.9*size_y),size_y)\n",
    "    \n",
    "    #w_s = np.random.randint(0,size_x - rsize_x)\n",
    "    #h_s = np.random.randint(0,size_y - rsize_x)\n",
    "    \n",
    "    #cropped_image = transformed_image[w_s:w_s+size_x, h_s:h_s+size_y]\n",
    "    \n",
    "    resized_image = skimage.transform.resize(transformed_image, [32,32,3])\n",
    "    \n",
    "    return resized_image"
   ]
  },
  {
   "cell_type": "code",
   "execution_count": 12,
   "metadata": {},
   "outputs": [],
   "source": [
    "amount_augmentations = 3\n",
    "train_shape = np.shape(train_images_concat)\n",
    "augment_shape = (train_shape[0]*3, train_shape[1], train_shape[2], train_shape[3])\n",
    "augmented_images = np.zeros(augment_shape, dtype=np.float32)\n",
    "augmented_labels = np.zeros((augment_shape[0]))\n"
   ]
  },
  {
   "cell_type": "code",
   "execution_count": 15,
   "metadata": {},
   "outputs": [
    {
     "name": "stderr",
     "output_type": "stream",
     "text": [
      "/u/93/vuolaa2/unix/.conda/envs/capsenv/lib/python3.6/site-packages/skimage/transform/_warps.py:84: UserWarning: The default mode, 'constant', will be changed to 'reflect' in skimage 0.15.\n",
      "  warn(\"The default mode, 'constant', will be changed to 'reflect' in \"\n"
     ]
    }
   ],
   "source": [
    "for i in range(train_shape[0]):\n",
    "    for j in range(amount_augmentations):\n",
    "        augmented = augment(train_images_concat[i])\n",
    "        idx = i * amount_augmentations + j\n",
    "        augmented_images[idx,:,:,:] = augmented\n",
    "        augmented_labels[idx] = train_labels_concat[i]\n",
    "\n",
    "train_images = augmented_images\n",
    "train_labels = augmented_labels"
   ]
  },
  {
   "cell_type": "code",
   "execution_count": 16,
   "metadata": {},
   "outputs": [
    {
     "data": {
      "image/png": "[encoded data removed]",
      "text/plain": [
       "<matplotlib.figure.Figure at 0x7fe57b7f1400>"
      ]
     },
     "metadata": {},
     "output_type": "display_data"
    }
   ],
   "source": [
    "# Visualize a few images\n",
    "amount = 5\n",
    "idxs = np.random.randint(0, len(train_images), amount)\n",
    "\n",
    "fig, axes = plt.subplots(1, amount, figsize=(15,15))\n",
    "fig.tight_layout()\n",
    "for i in range(0, amount):\n",
    "    axes[i].imshow(train_images[idxs[i]])\n",
    "    axes[i].set_title(\"Label:\" + str(train_labels[idxs[i]]))\n"
   ]
  },
  {
   "cell_type": "markdown",
   "metadata": {},
   "source": [
    "## Tensorflow implementation"
   ]
  },
  {
   "cell_type": "code",
   "execution_count": 17,
   "metadata": {},
   "outputs": [],
   "source": [
    "X = tf.placeholder(shape=[None, 32, 32, 3], dtype=tf.float32, name='X')"
   ]
  },
  {
   "cell_type": "code",
   "execution_count": 18,
   "metadata": {},
   "outputs": [],
   "source": [
    "# 32 maps of 6x6 capsules, outputs 8D activation vector\n",
    "caps1_maps_amount = 32\n",
    "caps1_caps_amount = caps1_maps_amount * 8 * 8\n",
    "caps1_dims = 8\n",
    "\n",
    "# First apply two regular convolutional layers\n",
    "C1 = tf.layers.conv2d(X, \n",
    "                      filters=256, \n",
    "                      kernel_size = 9, \n",
    "                      strides=1, \n",
    "                      padding='valid', \n",
    "                      activation=tf.nn.relu, \n",
    "                      name='C1')\n",
    "\n",
    "C2 = tf.layers.conv2d(C1, \n",
    "                      filters=(caps1_maps_amount*caps1_dims), \n",
    "                      kernel_size = 9, \n",
    "                      strides=2, \n",
    "                      padding='valid', \n",
    "                      activation=tf.nn.relu, \n",
    "                      name='C2')\n"
   ]
  },
  {
   "cell_type": "code",
   "execution_count": 19,
   "metadata": {},
   "outputs": [
    {
     "data": {
      "text/plain": [
       "TensorShape([Dimension(None), Dimension(8), Dimension(8), Dimension(256)])"
      ]
     },
     "execution_count": 19,
     "metadata": {},
     "output_type": "execute_result"
    }
   ],
   "source": [
    "np.shape(C2)"
   ]
  },
  {
   "cell_type": "code",
   "execution_count": 20,
   "metadata": {},
   "outputs": [],
   "source": [
    "def squash(s, axis=-1, epsilon=1e-7, name=None):\n",
    "    with tf.name_scope(name, default_name=\"squash\"):\n",
    "        squared_norm = tf.reduce_sum(tf.square(s), axis=axis,\n",
    "                                     keep_dims=True)\n",
    "        safe_norm = tf.sqrt(squared_norm + epsilon)\n",
    "        squash_factor = squared_norm / (1. + squared_norm)\n",
    "        unit_vector = s / safe_norm\n",
    "        return squash_factor * unit_vector"
   ]
  },
  {
   "cell_type": "code",
   "execution_count": 21,
   "metadata": {},
   "outputs": [],
   "source": [
    "# Reshape to capsule\n",
    "caps1_input = tf.reshape(C2, [-1, caps1_caps_amount, caps1_dims],\n",
    "                       name=\"caps1_input\")\n",
    "\n",
    "# Calculate capsule output\n",
    "caps1_output = squash(caps1_input, name='caps1_output')"
   ]
  },
  {
   "cell_type": "code",
   "execution_count": 22,
   "metadata": {},
   "outputs": [],
   "source": [
    "# Image capsule layer\n",
    "caps2_caps_amount = 10\n",
    "caps2_dims = 16\n",
    "\n",
    "init_sigma = 0.01\n",
    "\n",
    "W_init = tf.random_normal(\n",
    "    shape=(1, caps1_caps_amount, caps2_caps_amount, caps2_dims, caps1_dims),\n",
    "    stddev=init_sigma, dtype=tf.float32, name=\"W_init\")\n",
    "W = tf.Variable(W_init, name=\"W\")\n",
    "\n",
    "batch_size = tf.shape(X)[0]\n",
    "W_tiled = tf.tile(W, [batch_size, 1, 1, 1, 1], name=\"W_tiled\")"
   ]
  },
  {
   "cell_type": "code",
   "execution_count": 23,
   "metadata": {},
   "outputs": [],
   "source": [
    "caps1_output_expanded = tf.expand_dims(caps1_output, -1,\n",
    "                                       name=\"caps1_output_expanded\")\n",
    "caps1_output_tile = tf.expand_dims(caps1_output_expanded, 2,\n",
    "                                   name=\"caps1_output_tile\")\n",
    "caps1_output_tiled = tf.tile(caps1_output_tile, [1, 1, caps2_caps_amount, 1, 1],\n",
    "                             name=\"caps1_output_tiled\")"
   ]
  },
  {
   "cell_type": "code",
   "execution_count": 24,
   "metadata": {},
   "outputs": [],
   "source": [
    "caps2_predicted = tf.matmul(W_tiled, caps1_output_tiled,\n",
    "                            name=\"caps2_predicted\")"
   ]
  },
  {
   "cell_type": "code",
   "execution_count": 25,
   "metadata": {},
   "outputs": [
    {
     "data": {
      "text/plain": [
       "<tf.Tensor 'caps2_predicted:0' shape=(?, 2048, 10, 16, 1) dtype=float32>"
      ]
     },
     "execution_count": 25,
     "metadata": {},
     "output_type": "execute_result"
    }
   ],
   "source": [
    "caps2_predicted"
   ]
  },
  {
   "cell_type": "markdown",
   "metadata": {},
   "source": [
    "## Routing by agreement"
   ]
  },
  {
   "cell_type": "markdown",
   "metadata": {},
   "source": [
    "### Dynamic loop for routing"
   ]
  },
  {
   "cell_type": "code",
   "execution_count": 26,
   "metadata": {},
   "outputs": [],
   "source": [
    "# Initialize routing weights to zero\n",
    "raw_weights = tf.zeros([batch_size, caps1_caps_amount, caps2_caps_amount, 1, 1],\n",
    "                       dtype=np.float32, name=\"raw_weights\")"
   ]
  },
  {
   "cell_type": "code",
   "execution_count": 27,
   "metadata": {},
   "outputs": [],
   "source": [
    "def routingNode(capsule_output, W, caps_prediction, raw_weights_initial=None):\n",
    "    # X: Tiled output of a capsule layer\n",
    "    # W: Current routing weights\n",
    "    # caps_prediction: current prediction for the capsule layer outputs\n",
    "    # raw_weights_initial: If the raw weights are already calculated, use them (First iteration)\n",
    "    \n",
    "    if raw_weights_initial is not None:\n",
    "        raw_weights = raw_weights_initial\n",
    "    \n",
    "    else:\n",
    "        agreement = tf.matmul(caps_prediction, capsule_output,\n",
    "                          transpose_a=True, name=\"agreement\")\n",
    "\n",
    "\n",
    "        raw_weights = tf.add(W, agreement)\n",
    "\n",
    "    routing_weights = tf.nn.softmax(raw_weights, dim=2)\n",
    "\n",
    "    weighted_predictions = tf.multiply(routing_weights, caps_prediction)\n",
    "\n",
    "    weighted_sum = tf.reduce_sum(weighted_predictions,\n",
    "                                         axis=1, keep_dims=True)\n",
    "\n",
    "    caps_output = squash(weighted_sum, axis=-2)\n",
    "    \n",
    "    return caps_output, raw_weights\n"
   ]
  },
  {
   "cell_type": "code",
   "execution_count": 28,
   "metadata": {},
   "outputs": [],
   "source": [
    "# First routing node\n",
    "caps2_output, raw_weights = routingNode(None, None, caps2_predicted, raw_weights)\n",
    "\n",
    "# Loop for consequent routing nodes\n",
    "total_routes = 4\n",
    "for i in range(1,total_routes):\n",
    "    caps2_output_tiled = tf.tile(caps2_output, [1, caps1_caps_amount, 1, 1, 1])\n",
    "\n",
    "    caps2_output, raw_weights = routingNode(caps2_output_tiled, raw_weights, caps2_predicted)"
   ]
  },
  {
   "cell_type": "markdown",
   "metadata": {},
   "source": [
    "## Estimating class probs"
   ]
  },
  {
   "cell_type": "code",
   "execution_count": 29,
   "metadata": {},
   "outputs": [],
   "source": [
    "def safe_norm(s, axis=-1, epsilon=1e-7, keep_dims=False, name=None):\n",
    "    with tf.name_scope(name, default_name=\"safe_norm\"):\n",
    "        squared_norm = tf.reduce_sum(tf.square(s), axis=axis,\n",
    "                                     keep_dims=keep_dims)\n",
    "        return tf.sqrt(squared_norm + epsilon)"
   ]
  },
  {
   "cell_type": "code",
   "execution_count": 30,
   "metadata": {},
   "outputs": [],
   "source": [
    "y_prob = safe_norm(caps2_output, axis=-2, name=\"y_prob\")\n",
    "y_prob_argmax = tf.argmax(y_prob, axis=2, name=\"y_prob\")\n",
    "y_pred = tf.squeeze(y_prob_argmax, axis=[1,2], name=\"y_pred\")"
   ]
  },
  {
   "cell_type": "markdown",
   "metadata": {},
   "source": [
    "## Labels"
   ]
  },
  {
   "cell_type": "code",
   "execution_count": 31,
   "metadata": {},
   "outputs": [],
   "source": [
    "y = tf.placeholder(shape=[None], dtype=tf.int64, name=\"y\")"
   ]
  },
  {
   "cell_type": "code",
   "execution_count": 32,
   "metadata": {},
   "outputs": [],
   "source": [
    "m_plus = 0.9\n",
    "m_minus = 0.1\n",
    "lambda_ = 0.5"
   ]
  },
  {
   "cell_type": "code",
   "execution_count": 33,
   "metadata": {},
   "outputs": [],
   "source": [
    "T = tf.one_hot(y, depth=caps2_caps_amount, name=\"T\") # One hot encode labels"
   ]
  },
  {
   "cell_type": "markdown",
   "metadata": {},
   "source": [
    "## Reconstruction as regularization"
   ]
  },
  {
   "cell_type": "code",
   "execution_count": 34,
   "metadata": {},
   "outputs": [
    {
     "name": "stdout",
     "output_type": "stream",
     "text": [
      "Tensor(\"squash_3/mul:0\", shape=(?, 1, 10, 16, 1), dtype=float32)\n"
     ]
    }
   ],
   "source": [
    "# Compute output vector for each output capsule and instance\n",
    "print(caps2_output)\n",
    "\n",
    "caps2_output_norm = safe_norm(caps2_output, axis=-2, keep_dims=True,\n",
    "                              name=\"caps2_output_norm\")"
   ]
  },
  {
   "cell_type": "code",
   "execution_count": 35,
   "metadata": {},
   "outputs": [],
   "source": [
    "present_error_raw = tf.square(tf.maximum(0., m_plus - caps2_output_norm),\n",
    "                              name=\"present_error_raw\")\n",
    "present_error = tf.reshape(present_error_raw, shape=(-1, 10),\n",
    "                           name=\"present_error\")"
   ]
  },
  {
   "cell_type": "code",
   "execution_count": 36,
   "metadata": {},
   "outputs": [],
   "source": [
    "absent_error_raw = tf.square(tf.maximum(0., caps2_output_norm - m_minus),\n",
    "                             name=\"absent_error_raw\")\n",
    "absent_error = tf.reshape(absent_error_raw, shape=(-1, 10),\n",
    "                          name=\"absent_error\")"
   ]
  },
  {
   "cell_type": "code",
   "execution_count": 37,
   "metadata": {},
   "outputs": [],
   "source": [
    "L = tf.add(T * present_error, lambda_ * (1.0 - T) * absent_error,\n",
    "           name=\"L\")"
   ]
  },
  {
   "cell_type": "code",
   "execution_count": 38,
   "metadata": {},
   "outputs": [],
   "source": [
    "margin_loss = tf.reduce_mean(tf.reduce_sum(L, axis=1), name=\"margin_loss\")"
   ]
  },
  {
   "cell_type": "markdown",
   "metadata": {},
   "source": [
    "## Mask\n",
    "Only send outputs to the reconstruction network from the capsule to which the image belongs"
   ]
  },
  {
   "cell_type": "code",
   "execution_count": 39,
   "metadata": {},
   "outputs": [],
   "source": [
    "mask_with_labels = tf.placeholder_with_default(False, shape=(),\n",
    "                                               name=\"mask_with_labels\")"
   ]
  },
  {
   "cell_type": "code",
   "execution_count": 40,
   "metadata": {},
   "outputs": [],
   "source": [
    "reconstruction_targets = tf.cond(mask_with_labels, # condition\n",
    "                                 lambda: y,        # if True\n",
    "                                 lambda: y_pred,   # if False\n",
    "                                 name=\"reconstruction_targets\")"
   ]
  },
  {
   "cell_type": "code",
   "execution_count": 41,
   "metadata": {},
   "outputs": [],
   "source": [
    "reconstruction_mask = tf.one_hot(reconstruction_targets,\n",
    "                                 depth=caps2_caps_amount,\n",
    "                                 name=\"reconstruction_mask\")\n",
    "\n",
    "reconstruction_mask_reshaped = tf.reshape(\n",
    "    reconstruction_mask, [-1, 1, caps2_caps_amount, 1, 1],\n",
    "    name=\"reconstruction_mask_reshaped\")"
   ]
  },
  {
   "cell_type": "code",
   "execution_count": 42,
   "metadata": {},
   "outputs": [
    {
     "data": {
      "text/plain": [
       "<tf.Tensor 'reconstruction_mask:0' shape=(?, 10) dtype=float32>"
      ]
     },
     "execution_count": 42,
     "metadata": {},
     "output_type": "execute_result"
    }
   ],
   "source": [
    "reconstruction_mask"
   ]
  },
  {
   "cell_type": "code",
   "execution_count": 43,
   "metadata": {},
   "outputs": [],
   "source": [
    "caps2_output_masked = tf.multiply(\n",
    "    caps2_output, reconstruction_mask_reshaped,\n",
    "    name=\"caps2_output_masked\")"
   ]
  },
  {
   "cell_type": "code",
   "execution_count": 44,
   "metadata": {},
   "outputs": [],
   "source": [
    "decoder_input = tf.reshape(caps2_output_masked,\n",
    "                           [-1, caps2_caps_amount * caps2_dims],\n",
    "                           name=\"decoder_input\")"
   ]
  },
  {
   "cell_type": "code",
   "execution_count": 45,
   "metadata": {},
   "outputs": [
    {
     "data": {
      "text/plain": [
       "<tf.Tensor 'decoder_input:0' shape=(?, 160) dtype=float32>"
      ]
     },
     "execution_count": 45,
     "metadata": {},
     "output_type": "execute_result"
    }
   ],
   "source": [
    "decoder_input"
   ]
  },
  {
   "cell_type": "markdown",
   "metadata": {},
   "source": [
    "## Decoder\n",
    "Two fully connected ReLU followed with dense output sigmoid layer"
   ]
  },
  {
   "cell_type": "code",
   "execution_count": 46,
   "metadata": {},
   "outputs": [],
   "source": [
    "n_hidden1 = 512\n",
    "n_hidden2 = 1024\n",
    "n_output = 32 * 32 * 3"
   ]
  },
  {
   "cell_type": "code",
   "execution_count": 47,
   "metadata": {},
   "outputs": [],
   "source": [
    "with tf.name_scope(\"decoder\"):\n",
    "    hidden1 = tf.layers.dense(decoder_input, n_hidden1,\n",
    "                              activation=tf.nn.relu,\n",
    "                              name=\"hidden1\")\n",
    "    hidden2 = tf.layers.dense(hidden1, n_hidden2,\n",
    "                              activation=tf.nn.relu,\n",
    "                              name=\"hidden2\")\n",
    "    decoder_output = tf.layers.dense(hidden2, n_output,\n",
    "                                     activation=tf.nn.sigmoid,\n",
    "                                     name=\"decoder_output\")"
   ]
  },
  {
   "cell_type": "markdown",
   "metadata": {},
   "source": [
    "## Reconstruction loss"
   ]
  },
  {
   "cell_type": "code",
   "execution_count": 48,
   "metadata": {},
   "outputs": [],
   "source": [
    "X_flat = tf.reshape(X, [-1, n_output], name=\"X_flat\")\n",
    "squared_difference = tf.square(X_flat - decoder_output,\n",
    "                               name=\"squared_difference\")\n",
    "reconstruction_loss = tf.reduce_mean(squared_difference,\n",
    "                                    name=\"reconstruction_loss\")"
   ]
  },
  {
   "cell_type": "markdown",
   "metadata": {},
   "source": [
    "## Final loss"
   ]
  },
  {
   "cell_type": "code",
   "execution_count": 49,
   "metadata": {},
   "outputs": [],
   "source": [
    "alpha = 0.0001\n",
    "\n",
    "loss = tf.add(margin_loss, alpha * reconstruction_loss, name=\"loss\")"
   ]
  },
  {
   "cell_type": "markdown",
   "metadata": {},
   "source": [
    "## Calculate accuracy"
   ]
  },
  {
   "cell_type": "code",
   "execution_count": 50,
   "metadata": {},
   "outputs": [],
   "source": [
    "correct = tf.equal(y, y_pred, name=\"correct\")\n",
    "accuracy = tf.reduce_mean(tf.cast(correct, tf.float32), name=\"accuracy\")"
   ]
  },
  {
   "cell_type": "markdown",
   "metadata": {},
   "source": [
    "## Training ops"
   ]
  },
  {
   "cell_type": "code",
   "execution_count": 51,
   "metadata": {},
   "outputs": [],
   "source": [
    "optimizer = tf.train.AdamOptimizer()\n",
    "training_op = optimizer.minimize(loss, name=\"training_op\")"
   ]
  },
  {
   "cell_type": "code",
   "execution_count": 52,
   "metadata": {},
   "outputs": [],
   "source": [
    "init = tf.global_variables_initializer()\n",
    "saver = tf.train.Saver()"
   ]
  },
  {
   "cell_type": "markdown",
   "metadata": {},
   "source": [
    "# Training"
   ]
  },
  {
   "cell_type": "code",
   "execution_count": 53,
   "metadata": {},
   "outputs": [],
   "source": [
    "def reset_batch(images, labels):\n",
    "    # Shuffles the data\n",
    "    p = np.random.permutation(len(images))\n",
    "    shuffled_images = images[p]\n",
    "    shuffled_labels = labels[p]\n",
    "    return shuffled_images, shuffled_labels\n",
    "\n",
    "def get_next_batch(batch_size, iteration, epoch_images, epoch_labels):\n",
    "    batch_location = (iteration - 1)*batch_size\n",
    "    batch_images = epoch_images[batch_location:batch_location+batch_size]\n",
    "    batch_labels = epoch_labels[batch_location:batch_location+batch_size]\n",
    "    \n",
    "    return batch_images, batch_labels"
   ]
  },
  {
   "cell_type": "code",
   "execution_count": null,
   "metadata": {},
   "outputs": [
    {
     "name": "stdout",
     "output_type": "stream",
     "text": [
      "Iteration: 300/2700 (11.1%)  Loss: 0.46824 Seconds: 502.7"
     ]
    }
   ],
   "source": [
    "n_epochs = 10\n",
    "batch_size = 100\n",
    "restore_checkpoint = True\n",
    "\n",
    "n_iterations_per_epoch = len(train_images) // batch_size\n",
    "n_iterations_validation = len(validation_images) // batch_size\n",
    "best_loss_val = np.infty\n",
    "checkpoint_path = \"./capsnet_\"+str(datetime.datetime.now().time()).split('.')[0]\n",
    "#checkpoint_path = \"./capsnet_01:12:01\"\n",
    "\n",
    "training_loss_values = []\n",
    "\n",
    "\n",
    "with tf.Session() as sess:\n",
    "    if restore_checkpoint and tf.train.checkpoint_exists(checkpoint_path):\n",
    "        saver.restore(sess, checkpoint_path)\n",
    "    else:\n",
    "        init.run()\n",
    "    \n",
    "    for epoch in range(n_epochs):\n",
    "        epoch_start_time = timeit.default_timer()\n",
    "        epoch_images_train, epoch_labels_train = reset_batch(train_images, train_labels)\n",
    "        epoch_images_validation, epoch_labels_validation = reset_batch(validation_images, validation_labels)\n",
    "\n",
    "        for iteration in range(1, n_iterations_per_epoch + 1):\n",
    "            X_batch, y_batch = get_next_batch(batch_size, iteration, \n",
    "                                              epoch_images_train, epoch_labels_train)\n",
    "            \n",
    "            # Run the training operation and measure the loss:\n",
    "            _, loss_train = sess.run(\n",
    "                [training_op, loss],\n",
    "                feed_dict={X: X_batch.reshape([-1, 32, 32, 3]),\n",
    "                           y: y_batch,\n",
    "                           mask_with_labels: True})\n",
    "            training_loss_values.append(loss_train)\n",
    "            \n",
    "            iteration_time = timeit.default_timer() - epoch_start_time\n",
    "            print_line = \"\\rIteration: {}/{} ({:.1f}%)  Loss: {:.5f} Seconds: {:.1f}\".format(\n",
    "                      iteration, n_iterations_per_epoch,\n",
    "                      iteration * 100 / n_iterations_per_epoch,\n",
    "                      loss_train,\n",
    "                      iteration_time)\n",
    "            print(print_line, end=\"\")\n",
    "            sys.__stdout__.write(print_line)\n",
    "\n",
    "        # At the end of each epoch,\n",
    "        # measure the validation loss and accuracy:\n",
    "        loss_vals = []\n",
    "        acc_vals = []\n",
    "        for iteration in range(1, n_iterations_validation + 1):\n",
    "            X_batch, y_batch = get_next_batch(batch_size, iteration, \n",
    "                                              epoch_images_validation, epoch_labels_validation)\n",
    "            loss_val, acc_val = sess.run(\n",
    "                    [loss, accuracy],\n",
    "                    feed_dict={X: X_batch.reshape([-1, 32, 32, 3]),\n",
    "                               y: y_batch})\n",
    "            loss_vals.append(loss_val)\n",
    "            acc_vals.append(acc_val)\n",
    "            print_line = \"\\rEvaluating the model: {}/{} ({:.1f}%)\".format(\n",
    "                      iteration, n_iterations_validation,\n",
    "                      iteration * 100 / n_iterations_validation)\n",
    "            print(print_line, end=\" \" * 10)\n",
    "            sys.__stdout__.write(print_line)\n",
    "            \n",
    "        loss_val = np.mean(loss_vals)\n",
    "        acc_val = np.mean(acc_vals)\n",
    "        epoch_time = (timeit.default_timer() - epoch_start_time)/60.0\n",
    "        print_line = \"\\rEpoch: {} Train loss: {:.6f} Val accuracy: {:.4f}%  Loss: {:.6f} Minutes: {:.2f}{}\".format(\n",
    "            epoch + 1, loss_train, acc_val * 100, loss_val, epoch_time,\n",
    "            \" (improved)\" if loss_val < best_loss_val else \"\")\n",
    "        print(print_line)\n",
    "        sys.__stdout__.write(print_line)\n",
    "        \n",
    "        # And save the model if it improved:\n",
    "        if loss_val < best_loss_val:\n",
    "            save_path = saver.save(sess, checkpoint_path)\n",
    "            best_loss_val = loss_val"
   ]
  },
  {
   "cell_type": "code",
   "execution_count": null,
   "metadata": {},
   "outputs": [],
   "source": [
    "# Plot training loss\n",
    "plt.plot(training_loss_values)"
   ]
  },
  {
   "cell_type": "markdown",
   "metadata": {},
   "source": [
    "## Run network with test data"
   ]
  },
  {
   "cell_type": "code",
   "execution_count": null,
   "metadata": {},
   "outputs": [],
   "source": [
    "n_iterations_test = len(test_images) // batch_size\n",
    "checkpoint_path = \"./capsnet_01:12:01\"\n",
    "with tf.Session() as sess:\n",
    "    saver.restore(sess, checkpoint_path)\n",
    "\n",
    "    loss_tests = []\n",
    "    acc_tests = []\n",
    "    for iteration in range(1, n_iterations_test + 1):\n",
    "        X_batch, y_batch = get_next_batch(batch_size, iteration, \n",
    "                                              test_images, test_labels)\n",
    "        loss_test, acc_test = sess.run(\n",
    "                [loss, accuracy],\n",
    "                feed_dict={X: X_batch.reshape([-1, 32, 32, 3]),\n",
    "                           y: y_batch})\n",
    "        loss_tests.append(loss_test)\n",
    "        acc_tests.append(acc_test)\n",
    "        print(\"\\rEvaluating the model: {}/{} ({:.1f}%)\".format(\n",
    "                  iteration, n_iterations_test,\n",
    "                  iteration * 100 / n_iterations_test),\n",
    "              end=\" \" * 10)\n",
    "    loss_test = np.mean(loss_tests)\n",
    "    acc_test = np.mean(acc_tests)\n",
    "    print(\"\\rFinal test accuracy: {:.4f}%  Loss: {:.6f}\".format(\n",
    "        acc_test * 100, loss_test))\n"
   ]
  },
  {
   "cell_type": "markdown",
   "metadata": {},
   "source": [
    "## Make predictions"
   ]
  },
  {
   "cell_type": "code",
   "execution_count": null,
   "metadata": {},
   "outputs": [],
   "source": [
    "n_samples = 5\n",
    "\n",
    "idxs = np.random.randint(0,len(test_images), n_samples)\n",
    "sample_images = test_images[idxs].reshape([-1, 32, 32, 3])\n",
    "sample_labels = test_labels[idxs]"
   ]
  },
  {
   "cell_type": "code",
   "execution_count": null,
   "metadata": {},
   "outputs": [],
   "source": [
    "with tf.Session() as sess:\n",
    "    saver.restore(sess, checkpoint_path)\n",
    "    caps2_output_value, decoder_output_value, y_pred_value = sess.run(\n",
    "            [caps2_output, decoder_output, y_pred],\n",
    "            feed_dict={X: sample_images,\n",
    "                       y: np.array([], dtype=np.int64)})\n"
   ]
  },
  {
   "cell_type": "code",
   "execution_count": null,
   "metadata": {},
   "outputs": [],
   "source": [
    "plt.figure(figsize=(n_samples * 2, 3))\n",
    "for index in range(n_samples):\n",
    "    plt.subplot(1, n_samples, index + 1)\n",
    "    plt.imshow(sample_images[index], cmap=\"binary\")\n",
    "    plt.title(\"Label:\" + str(test_labels[index]))\n",
    "    plt.axis(\"off\")\n",
    "\n",
    "plt.show()\n",
    "\n",
    "reconstructions = decoder_output_value.reshape([-1, 32, 32, 3])\n",
    "\n",
    "plt.figure(figsize=(n_samples * 2, 3))\n",
    "for index in range(n_samples):\n",
    "    plt.subplot(1, n_samples, index + 1)\n",
    "    plt.title(\"Predicted:\" + str(y_pred_value[index]))\n",
    "    plt.imshow(reconstructions[index], cmap=\"binary\")\n",
    "    plt.axis(\"off\")\n",
    "    \n",
    "plt.show()\n"
   ]
  },
  {
   "cell_type": "code",
   "execution_count": null,
   "metadata": {},
   "outputs": [],
   "source": []
  },
  {
   "cell_type": "code",
   "execution_count": null,
   "metadata": {},
   "outputs": [],
   "source": []
  }
 ],
 "metadata": {
  "kernelspec": {
   "display_name": "Python 3",
   "language": "python",
   "name": "python3"
  },
  "language_info": {
   "codemirror_mode": {
    "name": "ipython",
    "version": 3
   },
   "file_extension": ".py",
   "mimetype": "text/x-python",
   "name": "python",
   "nbconvert_exporter": "python",
   "pygments_lexer": "ipython3",
   "version": "3.6.4"
  }
 },
 "nbformat": 4,
 "nbformat_minor": 2
}
